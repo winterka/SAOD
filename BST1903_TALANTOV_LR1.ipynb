{
 "cells": [
  {
   "cell_type": "markdown",
   "id": "ordered-breast",
   "metadata": {},
   "source": [
    "# Лабораторная работа №1\n",
    "## Выполнил студент группы БСТ1903 Талантов О.А. Вариант 18\n",
    "### Задание 1\n",
    "1. Создать Jupyter Notebook со следующим наименованием: Lab1_Группа_ФИО\n",
    "2. Создать новую ячейку с помощью кнопки\n",
    "3. В созданной ячейке по указанной ниже форме заполните оглавление файла,\n",
    "заменив наименование группы и вписав свое ФИО,\n",
    "Рисунок 1 - Форма оглавления файла в ячейке\n",
    "после чего создайте еще одну ячейку и напишите следующий код:\n",
    "4. С помощью кнопки запустите выполнение всех ячеек.\n",
    "5. После выполнения у вас должна отформатироваться ячейка с оглавлением и\n",
    "должен выполниться “Hello, World!” (см. рис. 2)"
   ]
  },
  {
   "cell_type": "code",
   "execution_count": 1,
   "id": "honey-nowhere",
   "metadata": {},
   "outputs": [
    {
     "name": "stdout",
     "output_type": "stream",
     "text": [
      "Hello, World !\n"
     ]
    }
   ],
   "source": [
    "print(\"Hello, World !\")"
   ]
  },
  {
   "cell_type": "markdown",
   "id": "revolutionary-ground",
   "metadata": {},
   "source": [
    "### Задание 2\n",
    "Написать генератор случайных матриц(многомерных), который принимает\n",
    "опциональные параметры `m, n, min_limit, max_limit`, где `m` и `n` указывают размер\n",
    "матрицы, а `min_lim` и `max_lim` - минимальное и максимальное значение для\n",
    "генерируемого числа . По умолчанию при отсутствии параметров принимать следующие\n",
    "значения:\n",
    "``` python\n",
    "m = 50\n",
    "n = 50\n",
    "min_limit = -250\n",
    "max_limit = 1000 + (номер своего варианта)\n",
    "```"
   ]
  },
  {
   "cell_type": "code",
   "execution_count": 2,
   "id": "pediatric-evanescence",
   "metadata": {},
   "outputs": [],
   "source": [
    "import random"
   ]
  },
  {
   "cell_type": "code",
   "execution_count": 3,
   "id": "amateur-wagner",
   "metadata": {},
   "outputs": [],
   "source": [
    "def random_matrix(m = 50, n = 50, min_limit = -250, max_limit = 1016):\n",
    "    return [[random.randint(min_limit, max_limit) for _ in range(n)] for _ in range(m)]"
   ]
  },
  {
   "cell_type": "markdown",
   "id": "second-craps",
   "metadata": {},
   "source": [
    "### Задание 3\n",
    "Реализовать методы сортировки строк числовой матрицы в соответствии с\n",
    "заданием. Оценить время работы каждого алгоритма сортировки и сравнить его со\n",
    "временем стандартной функции сортировки. Испытания проводить на сгенерированных\n",
    "матрицах.\n",
    "\n",
    "Методы: ВЫБОРОМ, ВСТАВКОЙ, ОБМЕНОМ, ШЕЛЛА, ТУРНИРНАЯ, БЫСТРАЯ СОРТИРОВКА, ПИРАМИДАЛЬНАЯ."
   ]
  },
  {
   "cell_type": "code",
   "execution_count": 4,
   "id": "viral-wireless",
   "metadata": {},
   "outputs": [],
   "source": [
    "# Сортировка выбором\n",
    "def selection_sort(arr):\n",
    "    for i, e in enumerate(arr):\n",
    "        mn = min(range(i, len(arr)), key=arr.__getitem__)\n",
    "        arr[i], arr[mn] = arr[mn], e\n",
    "    return arr"
   ]
  },
  {
   "cell_type": "code",
   "execution_count": 5,
   "id": "hungarian-curve",
   "metadata": {},
   "outputs": [],
   "source": [
    "# Сортировка вставкой\n",
    "def insertion_sort(arr):\n",
    "    for i in range(1, len(arr)):\n",
    "        j = i - i\n",
    "        while j >= 0 and arr[i] < arr[j]: \n",
    "            arr[j + 1] = arr[j]\n",
    "            j -= 1\n",
    "        arr[j + 1] = arr[i]"
   ]
  },
  {
   "cell_type": "code",
   "execution_count": 6,
   "id": "photographic-mortgage",
   "metadata": {},
   "outputs": [],
   "source": [
    "# Сортировка обменом\n",
    "def bubble_sort(arr):\n",
    "    for i in range(len(arr)):\n",
    "        for j in range(0, len(arr)-i-1): \n",
    "            if arr[j] > arr[j+1] : \n",
    "                arr[j], arr[j+1] = arr[j+1], arr[j]"
   ]
  },
  {
   "cell_type": "code",
   "execution_count": 7,
   "id": "bored-ballot",
   "metadata": {},
   "outputs": [],
   "source": [
    "# Сортировка Шелла\n",
    "def shell_sort(arr):\n",
    "    last_index = len(arr) - 1\n",
    "    step = len(arr) // 2\n",
    "    while step > 0:\n",
    "        for i in range(step, last_index + 1, 1):\n",
    "            j = i\n",
    "            delta = j - step\n",
    "            while delta >= 0 and arr[delta] > arr[j]:\n",
    "                arr[delta], arr[j] = arr[j], arr[delta]\n",
    "                j = delta\n",
    "                delta = j - step\n",
    "        step //= 2"
   ]
  },
  {
   "cell_type": "code",
   "execution_count": 8,
   "id": "hazardous-cornwall",
   "metadata": {},
   "outputs": [],
   "source": [
    "# Быстрая сортировка\n",
    "def quick_sort(arr, fst=0, lst=None):\n",
    "    if lst == None:\n",
    "        lst = len(arr) - 1\n",
    "        \n",
    "    if fst >= lst:\n",
    "        return\n",
    " \n",
    "    i, j = fst, lst\n",
    "    pivot = arr[(lst + fst) // 2]\n",
    " \n",
    "    while i <= j:\n",
    "        while arr[i] < pivot: i += 1\n",
    "        while arr[j] > pivot: j -= 1\n",
    "        if i <= j:\n",
    "            arr[i], arr[j] = arr[j], arr[i]\n",
    "            i, j = i + 1, j - 1\n",
    "            \n",
    "    quick_sort(arr, fst, j)\n",
    "    quick_sort(arr, i, lst)"
   ]
  },
  {
   "cell_type": "code",
   "execution_count": 9,
   "id": "verified-sleeping",
   "metadata": {},
   "outputs": [],
   "source": [
    "# Турнирная сортировка\n",
    "def tournament_sort(arr):\n",
    "    tree = [None] * 2 * (len(arr) + len(arr) % 2)\n",
    "    index = len(tree) - len(arr) - len(arr) % 2\n",
    "    \n",
    "    for i, v in enumerate(arr):\n",
    "        tree[index + i] = (i, v)\n",
    "    \n",
    "    for j in range(len(arr)):\n",
    "        n = len(arr)\n",
    "        index = len(tree) - len(arr) - len(arr) % 2\n",
    "        while index > -1:\n",
    "            n = (n + 1) // 2\n",
    "            for i in range(n):\n",
    "                i = max(index + i * 2, 1) # на последней итерация index + i * 2 = 0\n",
    "                if tree[i] != None and tree[i + 1] != None:\n",
    "                    if tree[i][1] < tree[i + 1][1]:\n",
    "                        tree[i // 2] = tree[i]\n",
    "                    else:\n",
    "                        tree[i // 2] = tree[i + 1]\n",
    "                else:\n",
    "                    tree[i // 2] = tree[i] if tree[i] != None else tree[i + 1]\n",
    "            index -= n\n",
    "\n",
    "        index, x = tree[0]\n",
    "        arr[j] = x\n",
    "        tree[len(tree) - len(arr) - len(arr) % 2 + index] = None"
   ]
  },
  {
   "cell_type": "code",
   "execution_count": 10,
   "id": "invalid-stage",
   "metadata": {},
   "outputs": [],
   "source": [
    "# Пирамидальная сортировка\n",
    "\n",
    "# Процедура для преобразования в двоичную кучу поддерева с корневым узлом i, что является индексом в arr[]. n - размер кучи\n",
    "def heapify(arr, n, i):\n",
    "    largest = i # Initialize largest as root\n",
    "    l = 2 * i + 1   # left = 2*i + 1\n",
    "    r = 2 * i + 2   # right = 2*i + 2\n",
    "\n",
    "    # Проверяем существует ли левый дочерний элемент больший, чем корень\n",
    "\n",
    "    if l < n and arr[i] < arr[l]:\n",
    "        largest = l\n",
    "\n",
    "    # Проверяем существует ли правый дочерний элемент больший, чем корень\n",
    "\n",
    "    if r < n and arr[largest] < arr[r]:\n",
    "        largest = r\n",
    "\n",
    "    # Заменяем корень, если нужно\n",
    "    if largest != i:\n",
    "        arr[i], arr[largest] = arr[largest], arr[i] # свап\n",
    "\n",
    "        # Применяем heapify к корню.\n",
    "        heapify(arr, n, largest)\n",
    "\n",
    "# Основная функция для сортировки массива заданного размера\n",
    "def heap_sort(arr):\n",
    "    n = len(arr)\n",
    "\n",
    "    # Построение max-heap.\n",
    "    for i in range(n, -1, -1):\n",
    "        heapify(arr, n, i)\n",
    "\n",
    "    # Один за другим извлекаем элементы\n",
    "    for i in range(n-1, 0, -1):\n",
    "        arr[i], arr[0] = arr[0], arr[i] # свап \n",
    "        heapify(arr, i, 0)"
   ]
  },
  {
   "cell_type": "code",
   "execution_count": 15,
   "id": "molecular-argument",
   "metadata": {},
   "outputs": [
    {
     "ename": "SyntaxError",
     "evalue": "invalid syntax (<ipython-input-15-2cfb1e35d98e>, line 39)",
     "output_type": "error",
     "traceback": [
      "\u001b[1;36m  File \u001b[1;32m\"<ipython-input-15-2cfb1e35d98e>\"\u001b[1;36m, line \u001b[1;32m39\u001b[0m\n\u001b[1;33m    Алгоритм                      Время\u001b[0m\n\u001b[1;37m                                  ^\u001b[0m\n\u001b[1;31mSyntaxError\u001b[0m\u001b[1;31m:\u001b[0m invalid syntax\n"
     ]
    }
   ],
   "source": [
    "import random\n",
    "import time\n",
    "\n",
    "SORT_FUNCTIONS = {\n",
    "    'Сортировка выбором': selection_sort,\n",
    "    'Сортировка вставкой': insertion_sort,\n",
    "    'Сортировка обменом': bubble_sort,\n",
    "    'Cортировка Шелла': shell_sort,\n",
    "    'Быстрая сортировка': quick_sort,\n",
    "    'Турнирная сортировка': tournament_sort,\n",
    "    'Пирамидальная сортировка': heap_sort,\n",
    "    'Встроенная сортирока': sorted\n",
    "}\n",
    "\n",
    "def print_comparison(comparison):\n",
    "    largest_name_len = len(max(comparison.keys(), key=len))\n",
    "    largest_name_len += 6\n",
    "\n",
    "    heading = 'Алгоритм'.ljust(largest_name_len) + 'Время'\n",
    "    print(heading)\n",
    "    print('-' * len(heading))\n",
    "    for algo, time_taken in comparison.items():\n",
    "        print(f'{algo:<{largest_name_len}}{time_taken}')\n",
    "\n",
    "time_taken = {}\n",
    "samples = random_matrix(50, 1000)\n",
    "for algo_name, sorter in SORT_FUNCTIONS.items():\n",
    "    samples_copy = samples.copy()\n",
    "    start = time.perf_counter()\n",
    "    for sample in samples_copy:\n",
    "        sorter(sample)\n",
    "    end = time.perf_counter()\n",
    "\n",
    "    time_taken[algo_name] = (end - start) / len(samples)\n",
    "\n",
    "time_taken_sorted = dict(sorted(time_taken.items(), key=lambda kv: kv[1]))\n",
    "print_comparison(time_taken_sorted)\n",
    "\n",
    "Алгоритм                      Время\n",
    "-----------------------------------\n",
    "Встроенная сортирока          7.898139999937825e-06\n",
    "Сортировка вставкой           9.76776800000012e-05\n",
    "Cортировка Шелла              0.0005487825400000012\n",
    "Быстрая сортировка            0.0006399158799999949\n",
    "Пирамидальная сортировка      0.002755769540000017\n",
    "Сортировка выбором            0.013987631820000002\n",
    "Сортировка обменом            0.02528045282\n",
    "Турнирная сортировка          0.329534975567"
   ]
  },
  {
   "cell_type": "markdown",
   "id": "renewable-repeat",
   "metadata": {},
   "source": [
    "### Задание №4:\n",
    "Создать публичный репозиторий на github, и запушить выполненное задание в\n",
    ".ipynb формате.\n",
    "https://github.com/winterka/SAOD.git"
   ]
  },
  {
   "cell_type": "markdown",
   "id": "amino-fantasy",
   "metadata": {},
   "source": [
    "### Вывод\n",
    "В ходе лабораторной работы мы научились использовать Markdown, оформлять заголовки, выполнять простую задачу на вывод \"Hello World!\" на языке программирования Python 3, а также создавать генераторы случайных матриц, реализовали 7 методов сортировки и сравнили время работы каждого метода со временем стандартной функции сортировки. Также создали публичный репозиторий на github и выгрузили данную лабораторную работу в созданный репозиторий."
   ]
  },
  {
   "cell_type": "code",
   "execution_count": null,
   "id": "rural-picture",
   "metadata": {},
   "outputs": [],
   "source": []
  }
 ],
 "metadata": {
  "kernelspec": {
   "display_name": "Python 3",
   "language": "python",
   "name": "python3"
  },
  "language_info": {
   "codemirror_mode": {
    "name": "ipython",
    "version": 3
   },
   "file_extension": ".py",
   "mimetype": "text/x-python",
   "name": "python",
   "nbconvert_exporter": "python",
   "pygments_lexer": "ipython3",
   "version": "3.9.2"
  }
 },
 "nbformat": 4,
 "nbformat_minor": 5
}
