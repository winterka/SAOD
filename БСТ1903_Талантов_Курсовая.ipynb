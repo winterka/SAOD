{
 "cells": [
  {
   "cell_type": "markdown",
   "id": "international-parallel",
   "metadata": {},
   "source": [
    "# Курсовая работа по дисциплине СиАОД\n"
   ]
  },
  {
   "cell_type": "markdown",
   "id": "gross-cedar",
   "metadata": {},
   "source": [
    "# Выполнил студент БСТ1903 Талантов Олег Андреевич. Вариант 18"
   ]
  },
  {
   "cell_type": "markdown",
   "id": "going-wonder",
   "metadata": {},
   "source": [
    "## Задача 1. «Треугольник с максимальным периметром»\n",
    "\n",
    "Массив A состоит из целых положительных чисел ­ длин отрезков. Составьте из трех отрезков такой треугольник, чтобы его периметр был максимально возможным. Если невозможно составить треугольник с положительной площадью ­ функция возвращает 0.\n"
   ]
  },
  {
   "cell_type": "code",
   "execution_count": 1,
   "id": "loose-newark",
   "metadata": {},
   "outputs": [
    {
     "name": "stdout",
     "output_type": "stream",
     "text": [
      "Максимально возможный Периметр треугольника =  5\n",
      "None\n"
     ]
    }
   ],
   "source": [
    "def Tri(Triangle):\n",
    "    Triangle.sort\n",
    "    Triangle.reverse\n",
    "    i=0\n",
    "    while True:\n",
    "        t1 = Triangle[i]\n",
    "        t2 = Triangle[i + 1]\n",
    "        try:\n",
    "            if t1 + t2 > Triangle[i + 2] and t2 + Triangle[i + 2] > t1 and t1 + Triangle[i + 2] > t2:\n",
    "                t3 = Triangle[i + 2]\n",
    "                print(\"Максимально возможный Периметр треугольника = \", t1 + t2 + t3)\n",
    "                break\n",
    "        except IndexError:\n",
    "            print(\"Невозможно найти Периметр треугольника\")\n",
    "            break\n",
    "        i+=1      \n",
    "        \n",
    "print(Tri([2,1,2]))"
   ]
  },
  {
   "cell_type": "markdown",
   "id": "later-gospel",
   "metadata": {},
   "source": [
    "## Задача 2. «Максимальное число»\n",
    "\n",
    "Дан массив неотрицательных целых чисел nums. Расположите их в таком порядке, чтобы\n",
    "вместе они образовали максимально возможное число.\n",
    "Замечание: Результат может быть очень большим числом, поэтому представьте его как\n",
    "string, а не integer.\n"
   ]
  },
  {
   "cell_type": "code",
   "execution_count": 2,
   "id": "flying-nitrogen",
   "metadata": {},
   "outputs": [
    {
     "name": "stdout",
     "output_type": "stream",
     "text": [
      "['101', '2', '3', '4', '11']\n",
      "101\n",
      "222\n",
      "333\n",
      "444\n",
      "111\n",
      "['4', '3', '2', '11', '101']\n",
      "43211101\n"
     ]
    }
   ],
   "source": [
    "def Max(nums):\n",
    "    lengthMax = len(str(max(nums))) # Длина максимального эдемента\n",
    "    nums = [str(i) for i in nums] # Перевод в строковой тип\n",
    "    print(nums)\n",
    "    def el(a):\n",
    "        print( a + a[-1] * (lengthMax - len(a)))\n",
    "        return a + a[-1] * (lengthMax - len(a))\n",
    "    SotrMas = sorted(nums, key=el, reverse=True)\n",
    "    print(SotrMas)\n",
    "    return(''.join(SotrMas))\n",
    "print(Max([101,2,3,4,11]))\n"
   ]
  },
  {
   "cell_type": "markdown",
   "id": "dated-preservation",
   "metadata": {},
   "source": [
    "## Задача 3. «Сортировка диагоналей в матрице»\n",
    "\n",
    "Дана матрица mat размером m * n, значения ­ целочисленные. Напишите функцию, сортирующую каждую диагональ матрицы по возрастанию и возвращающую получившуюся матрицу"
   ]
  },
  {
   "cell_type": "code",
   "execution_count": 3,
   "id": "exciting-command",
   "metadata": {},
   "outputs": [
    {
     "name": "stdout",
     "output_type": "stream",
     "text": [
      "Исходная матрица: \n",
      "[3, 3, 1, 1]\n",
      "[2, 2, 1, 2]\n",
      "[1, 1, 1, 2]\n",
      "Отсортированная матрица: \n",
      "[1, 1, 1, 1]\n",
      "[1, 2, 2, 2]\n",
      "[1, 2, 3, 3]\n",
      "None\n"
     ]
    }
   ],
   "source": [
    "def Sort(matrix):\n",
    "    matrix = [[3, 3, 1, 1], [2, 2, 1, 2], [1, 1, 1, 2]]\n",
    "    print(\"Исходная матрица: \")\n",
    "    for row in matrix:\n",
    "        print(row)\n",
    "    m = len(matrix[0])\n",
    "    n = len(matrix)\n",
    "    while True:\n",
    "        a = 0\n",
    "        for i in range(n):\n",
    "            for j in range(m):\n",
    "                try:\n",
    "                    if matrix[i][j] > matrix[i + 1][j + 1]:\n",
    "                        a = 1\n",
    "                        matrix[i][j], matrix[i + 1][j + 1] = matrix[i + 1][j + 1], matrix[i][j]\n",
    "                except:\n",
    "                    continue\n",
    "        if a == 0:\n",
    "            break\n",
    "    print(\"Отсортированная матрица: \")\n",
    "    for row in matrix:\n",
    "        print(row)\n",
    "print(Sort([[3, 3, 1, 1], [2, 2, 1, 2], [1, 1, 1, 2]]))"
   ]
  },
  {
   "cell_type": "markdown",
   "id": "representative-circulation",
   "metadata": {},
   "source": [
    "## Задача 4. «Объединение отрезков»\n",
    "\n",
    "Дан массив отрезков intervals, в котором intervals[i] = [start^ i, end^ i ], некоторыеотрезки могут пересекаться. Напишите функцию, которая объединяет все пересекающиеся отрезки в один и возвращает новый массив непересекающихся отрезков"
   ]
  },
  {
   "cell_type": "code",
   "execution_count": 4,
   "id": "careful-frame",
   "metadata": {},
   "outputs": [
    {
     "name": "stdout",
     "output_type": "stream",
     "text": [
      "[[1, 5]]\n"
     ]
    }
   ],
   "source": [
    "def Edino(intervals):\n",
    "    result = []\n",
    "    intervals.sort()\n",
    "    for interval in intervals:\n",
    "        if result == [] or result[-1][1] < interval[0]:\n",
    "            result.append(interval)\n",
    "        else:\n",
    "            result[-1][1] = max(result[-1][1], interval[1])\n",
    "    return(result)\n",
    "print(Edino([[1,4], [4,5]]))"
   ]
  },
  {
   "cell_type": "markdown",
   "id": "lonely-carrier",
   "metadata": {},
   "source": [
    "## Задача 5. «Стопки монет»\n",
    "\n",
    "На столе стоят 3n стопок монет. Вы и ваши друзья Алиса и Боб забираете стопки монет по\n",
    "следующему алгоритму:\n",
    "1. Вы выбираете 3 стопки монет из оставшихся на столе.\n",
    "2. Алиса забирает себе стопку с максимальным количеством монет.\n",
    "3. Вы забираете одну из двух оставшихся стопок.\n",
    "4. Боб забирает последнюю стопку.\n",
    "5. Если еще остались стопки, то действия повторяются с первого шага.\n",
    "Дан массив целых положительных чисел piles. Напишите функцию, возвращающую максимальное число монет, которое вы можете получить.\n"
   ]
  },
  {
   "cell_type": "code",
   "execution_count": 5,
   "id": "hidden-qualification",
   "metadata": {},
   "outputs": [
    {
     "name": "stdout",
     "output_type": "stream",
     "text": [
      "4\n"
     ]
    }
   ],
   "source": [
    "def Coins1(piles):\n",
    "    n = len(piles)\n",
    "    SumCoins = 0\n",
    "    piles.sort\n",
    "    piles.reverse\n",
    "    for i in range(0, n//3*2, 2):\n",
    "     Mass = piles[i : i+2]\n",
    "     Mass.append(piles.pop())\n",
    "     Mass.sort()\n",
    "     Mass.pop()\n",
    "     SumCoins += Mass.pop()\n",
    "     Mass.pop()\n",
    "    return(SumCoins)\n",
    "print(Coins1([2,4,5]))\n",
    "\n"
   ]
  },
  {
   "cell_type": "markdown",
   "id": "muslim-savings",
   "metadata": {},
   "source": [
    "## Задача 6. «Шарики и стрелы»\n",
    "\n",
    "Некоторые сферические шарики распределены по двухмерному пространству. Для каждого шарика даны x­координаты начала и конца его горизонтального диаметра. Так как пространство двумерно, то y­координаты не имеют значения в данной задаче. Координата xstart всегда меньше xend.\n",
    "Стрелу можно выстрелить строго вертикально (вдоль y­оси) из разных точек x­оси. Шарик с координатами xstart и xend уничтожается стрелой, если она была выпущена из такой позиции x, что xstart ⩽ x ⩽ xend. Когда стрела выпущена, она летит в пространстве бесконечное время (уничтожая все шарики на пути).\n",
    "Дан массив points, где points[i] = [xstart, xend]. Напишите функцию, возвращающую минимальное количество стрел, которые нужно выпустить, чтобы уничтожить все шарики.\n"
   ]
  },
  {
   "cell_type": "code",
   "execution_count": 6,
   "id": "typical-freight",
   "metadata": {},
   "outputs": [
    {
     "name": "stdout",
     "output_type": "stream",
     "text": [
      "2\n"
     ]
    }
   ],
   "source": [
    "def Shar(points):\n",
    "    points = [[10, 16], [2, 8], [1, 6], [7, 12]]\n",
    "    if len(points) == 0:\n",
    "        print(points)\n",
    "    points.sort(key=lambda a: a[1])\n",
    "    arrows = 1\n",
    "    curr = points[0]\n",
    "    for balloon in points:\n",
    "        if curr[1] < balloon[0]:\n",
    "            curr = balloon\n",
    "            arrows += 1\n",
    "    return(arrows)\n",
    "print(Shar([[10, 16], [2, 8], [1, 6], [7, 12]]))\n"
   ]
  },
  {
   "cell_type": "markdown",
   "id": "partial-afghanistan",
   "metadata": {},
   "source": [
    "## Задача 7. «Победа строк»\n",
    "\n",
    "Даны две строки: s1 и s2 с одинаковым размером, проверьте, может ли некоторая перестановка строки s1 “победить” некоторую перестановку строки s2 или наоборот. Строка x может “победить” строку y (обе имеют размер n), если \n",
    "x[i]> = y[i] (в алфавитном порядке) для всех i от 0 до n-1.\n"
   ]
  },
  {
   "cell_type": "code",
   "execution_count": 7,
   "id": "lasting-junior",
   "metadata": {},
   "outputs": [
    {
     "name": "stdout",
     "output_type": "stream",
     "text": [
      "True\n"
     ]
    }
   ],
   "source": [
    "def Stroki(s1,s2):\n",
    "    s1 = ''.join(sorted(s1))\n",
    "    s2 = ''.join(sorted(s2))\n",
    "    a = 0\n",
    "    b = 0\n",
    "    for i in range(3):\n",
    "     if s1[i] > s2[i]:\n",
    "      a+=1\n",
    "     elif s1[i] < s2[i]:\n",
    "      b+=1\n",
    "     else:\n",
    "      a+=1 \n",
    "      b+=1\n",
    "    if a == 3 or b == 3:\n",
    "     return(True)\n",
    "    else:\n",
    "     return(False)\n",
    "print(Stroki('abc', 'xya'))\n",
    "\n",
    "\n"
   ]
  },
  {
   "cell_type": "markdown",
   "id": "prerequisite-reply",
   "metadata": {},
   "source": [
    "## Задача 8.«Самая длинная полиндромная подстрока»\n",
    "\n",
    "Дана строка s, вернуть самую длинную полиндромную подстроку в s."
   ]
  },
  {
   "cell_type": "code",
   "execution_count": 8,
   "id": "posted-macintosh",
   "metadata": {},
   "outputs": [
    {
     "name": "stdout",
     "output_type": "stream",
     "text": [
      "abaaba\n"
     ]
    }
   ],
   "source": [
    "def dlin(s):\n",
    "    Output = \"\"\n",
    "    for i in range(len(s)):\n",
    "     for j in range(0, i):\n",
    "        sub = s[j:i + 1]\n",
    "        if sub == sub[::-1]:\n",
    "            if len(sub) > len(Output):\n",
    "                Output = sub\n",
    "    return(Output)\n",
    "print(dlin('abaaba'))"
   ]
  },
  {
   "cell_type": "markdown",
   "id": "organic-subscription",
   "metadata": {},
   "source": [
    "## Задача 9.«Отдельные непустые подстроки текста»\n",
    "\n",
    "Вернуть количество отдельных непустых подстрок текста, которые могут быть записаны как конкатенация некоторой строки с самой собой (т.е. она может быть записана, как a + a, где a - некоторая строка)."
   ]
  },
  {
   "cell_type": "code",
   "execution_count": 9,
   "id": "turned-filename",
   "metadata": {},
   "outputs": [
    {
     "name": "stdout",
     "output_type": "stream",
     "text": [
      "6\n"
     ]
    }
   ],
   "source": [
    "def Nepusto(s):\n",
    "    longest = 0\n",
    "    for start_index in range(len(s)):\n",
    "        contains = set()\n",
    "        for letter in s[start_index:]:\n",
    "            if letter in contains:\n",
    "                break\n",
    "            contains.add(letter)\n",
    "        longest = max(longest, len(contains))\n",
    "    return(longest)\n",
    "\n",
    "print(Nepusto('abcabcuio'))"
   ]
  },
  {
   "cell_type": "markdown",
   "id": "irish-spread",
   "metadata": {},
   "source": [
    "# Вывод\n",
    "\n",
    "В ходе выполнения курсовой работы были подведены итоги по дисциплине СиАОД за счет выполнения 9 задач."
   ]
  }
 ],
 "metadata": {
  "kernelspec": {
   "display_name": "Python 3",
   "language": "python",
   "name": "python3"
  },
  "language_info": {
   "codemirror_mode": {
    "name": "ipython",
    "version": 3
   },
   "file_extension": ".py",
   "mimetype": "text/x-python",
   "name": "python",
   "nbconvert_exporter": "python",
   "pygments_lexer": "ipython3",
   "version": "3.9.2"
  }
 },
 "nbformat": 4,
 "nbformat_minor": 5
}
