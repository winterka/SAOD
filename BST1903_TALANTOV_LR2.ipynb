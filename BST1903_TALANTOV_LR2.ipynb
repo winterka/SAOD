{
 "cells": [
  {
   "cell_type": "markdown",
   "metadata": {},
   "source": [
    "# Лабораторная работа №2. Методы поиска.\n",
    "## Выполнил студент группы БСТ1903 Талантов О.А. Вариант 18\n",
    "\n",
    "### Задание 1\n",
    "\n",
    "1. Реализовать методы поиска в соответствии с заданием.\n",
    "2. Организовать генерацию начального набора случайных данных.\n",
    "3. Для всех вариантов добавить реализацию добавления, поиска и удаления элементов.\n",
    "4. Оценить время работы каждого алгоритма поиска и сравнить его со временем работы стандартной функции поиска, используемой в выбранном языке программирования.\n"
   ]
  },
  {
   "cell_type": "markdown",
   "metadata": {},
   "source": [
    "#### Импорты"
   ]
  },
  {
   "cell_type": "code",
   "execution_count": 22,
   "metadata": {},
   "outputs": [],
   "source": [
    "import random\n",
    "import time\n",
    "from __future__ import print_function"
   ]
  },
  {
   "cell_type": "markdown",
   "metadata": {},
   "source": [
    "#### Генерация случайных значений"
   ]
  },
  {
   "cell_type": "code",
   "execution_count": 23,
   "metadata": {},
   "outputs": [],
   "source": [
    "def random_matrix(m = 50, n = 50, min_limit = -250, max_limit = 1018):\n",
    "    return [[random.randint(min_limit, max_limit) for _ in range(n)] for _ in range(m)]"
   ]
  },
  {
   "cell_type": "markdown",
   "metadata": {},
   "source": [
    "### Бинарный поиск"
   ]
  },
  {
   "cell_type": "code",
   "execution_count": 24,
   "metadata": {},
   "outputs": [],
   "source": [
    "class BinarySearchMap:\n",
    "    def __init__(self):\n",
    "        self.data = [] # хранилище (key, value) значений\n",
    "\n",
    "    def search(self, key):\n",
    "        \"\"\" Поиск индекса (во всех случаях лучше левосторонний,\n",
    "            чтоб insert вставлял по убыванию) \"\"\"\n",
    "        l = 0\n",
    "        r = len(self.data)\n",
    "        while l < r:\n",
    "            m = (l + r) // 2\n",
    "            if self.data[m][0] < key:\n",
    "                l = m + 1\n",
    "            else:\n",
    "                r = m\n",
    "        return l    \n",
    "        \n",
    "    def __setitem__(self, key, value):\n",
    "        \"\"\" Добавить элемент \"\"\"\n",
    "        index = self.search(key)\n",
    "        # если ключ уже есть в таблице, то надо заменить значение\n",
    "        if index < len(self.data) and self.data[index][0] == key:\n",
    "            self.data[index] = (key, value)\n",
    "        else:\n",
    "            # иначе добавляем новую запись\n",
    "            self.data.insert(index, (key, value))\n",
    "    \n",
    "    def __delitem__(self, key):\n",
    "        \"\"\" Удалить элемент \"\"\"\n",
    "        index = self.search(key)\n",
    "        self.data.pop(index)\n",
    "    \n",
    "    def __getitem__(self, key):\n",
    "        \"\"\" Получить элемент \"\"\"\n",
    "        index = self.search(key)\n",
    "        found_key, val = self.data[index]\n",
    "        # если найденный индекс выдает запрашиваемый ключ\n",
    "        if found_key == key:\n",
    "            return val\n",
    "        raise KeyError()\n"
   ]
  },
  {
   "cell_type": "markdown",
   "metadata": {},
   "source": [
    "### Фибоначчиев поиск"
   ]
  },
  {
   "cell_type": "code",
   "execution_count": 25,
   "metadata": {},
   "outputs": [],
   "source": [
    "fib_c = [0, 1]\n",
    "def fib(n):\n",
    "    if len(fib_c) - 1 < n:\n",
    "        fib_c.append(fib(n - 1) + fib(n - 2))\n",
    "    return fib_c[n]\n",
    "\n",
    "class FibonacciMap(BinarySearchMap):\n",
    "    def search(self, key):\n",
    "        m = 0 \n",
    "        while fib(m) < len(self.data): \n",
    "            m += 1\n",
    "        offset = 0\n",
    "        while fib(m) > 1:\n",
    "            i = min(offset + fib(m - 1), len(self.data) - 1)\n",
    "            if key > self.data[i][0]:\n",
    "                offset = i\n",
    "            elif key == self.data[i][0]:\n",
    "                return i\n",
    "            m -= 1\n",
    "        if len(self.data) and self.data[offset][0] < key:\n",
    "            return offset + 1\n",
    "        return 0"
   ]
  },
  {
   "cell_type": "markdown",
   "metadata": {},
   "source": [
    "### Интерполяционный поиск"
   ]
  },
  {
   "cell_type": "code",
   "execution_count": 26,
   "metadata": {},
   "outputs": [],
   "source": [
    "def nearest_mid(input_list, lower_bound_index, upper_bound_index, search_value):\n",
    "    return lower_bound_index + \\\n",
    "        (upper_bound_index - lower_bound_index) * \\\n",
    "        (search_value - input_list[lower_bound_index]) // \\\n",
    "        (input_list[upper_bound_index][0] - input_list[lower_bound_index][0])\n",
    "\n",
    "class InterpolateMap(BinarySearchMap):\n",
    "    def interpolation_search(self, term):\n",
    "        size_of_list = len(self.data) - 1\n",
    "\n",
    "        index_of_first_element = 0\n",
    "        index_of_last_element = size_of_list\n",
    "\n",
    "        while index_of_first_element <= index_of_last_element:\n",
    "            mid_point = nearest_mid(self.data, index_of_first_element, index_of_last_element, term)\n",
    "\n",
    "            if mid_point > index_of_last_element or mid_point < index_of_first_element:\n",
    "                return None\n",
    "\n",
    "            if self.data[mid_point][0] == term:\n",
    "                return mid_point\n",
    "\n",
    "            if term > self.data[mid_point][0]:\n",
    "                index_of_first_element = mid_point + 1\n",
    "            else:\n",
    "                index_of_last_element = mid_point - 1\n",
    "\n",
    "        if index_of_first_element > index_of_last_element:\n",
    "            return None"
   ]
  },
  {
   "cell_type": "markdown",
   "metadata": {},
   "source": [
    "### Бинарное дерево"
   ]
  },
  {
   "cell_type": "code",
   "execution_count": 27,
   "metadata": {},
   "outputs": [],
   "source": [
    "class Tree:\n",
    "    def __init__(self, key, value):\n",
    "        self.key = key\n",
    "        self.value = value\n",
    "        self.left = self.right = None\n",
    "        \n",
    "class BinaryTreeMap:\n",
    "    root = None\n",
    "    \n",
    "    def insert(self, tree, key, value):\n",
    "        if tree is None:\n",
    "            return Tree(key, value)\n",
    "        if tree.key > key:\n",
    "            tree.left = self.insert(tree.left, key, value)\n",
    "        elif tree.key < key:\n",
    "            tree.right = self.insert(tree.right, key, value)\n",
    "        else:\n",
    "            tree.value = value\n",
    "        return tree\n",
    "            \n",
    "    def search(self, tree, key):\n",
    "        if tree is None or tree.key == key:\n",
    "            return tree\n",
    "        if tree.key > key:\n",
    "            return self.search(tree.left, key)\n",
    "        return self.search(tree.right, key)\n",
    "        \n",
    "    def __getitem__(self, key):\n",
    "        tree = self.search(self.root, key)\n",
    "        if tree is not None:\n",
    "            return tree.value\n",
    "        raise KeyError()\n",
    "    \n",
    "    def __setitem__(self, key, value):\n",
    "        if self.root is None:\n",
    "            self.root = self.insert(self.root, key, value)\n",
    "        else: self.insert(self.root, key, value)"
   ]
  },
  {
   "cell_type": "markdown",
   "metadata": {},
   "source": [
    "### Задание 2\n"
   ]
  },
  {
   "cell_type": "markdown",
   "metadata": {},
   "source": [
    "### Простое рехеширование"
   ]
  },
  {
   "cell_type": "code",
   "execution_count": 28,
   "metadata": {},
   "outputs": [],
   "source": [
    "class HashMap:\n",
    "    def __init__(self):\n",
    "        self.size = 0\n",
    "        self.data = []\n",
    "        self._resize()\n",
    "    \n",
    "    def _hash(self, key, i):\n",
    "        return (hash(key) + i) % len(self.data)\n",
    "        \n",
    "    def _find(self, key):\n",
    "        i = 0;\n",
    "        index = self._hash(key, i);\n",
    "        while self.data[index] is not None and self.data[index][0] != key:\n",
    "            i += 1\n",
    "            index = self._hash(key, i);\n",
    "        return index;\n",
    "    \n",
    "    def _resize(self):\n",
    "        temp = self.data\n",
    "        self.data = [None] * (2*len(self.data) + 1)\n",
    "        for item in temp:\n",
    "            if item is not None:\n",
    "                self.data[self._find(item[0])] = item\n",
    "    \n",
    "    def __setitem__(self, key, value):\n",
    "        if self.size + 1 > len(self.data) // 2:\n",
    "            self._resize()\n",
    "        index = self._find(key)\n",
    "        if self.data[index] is None:  \n",
    "            self.size += 1\n",
    "        self.data[index] = (key, value)\n",
    "    \n",
    "    def __getitem__(self, key):\n",
    "        index = self._find(key)\n",
    "        if self.data[index] is not None:\n",
    "            return self.data[index][1]\n",
    "        raise KeyError()"
   ]
  },
  {
   "cell_type": "markdown",
   "metadata": {},
   "source": [
    "### Рехеширование с помощью всевдослучайных чисел"
   ]
  },
  {
   "cell_type": "code",
   "execution_count": 29,
   "metadata": {},
   "outputs": [],
   "source": [
    "class RandomHashMap(HashMap):\n",
    "    _rand_c = [5323]\n",
    "    \n",
    "    def _rand(self, i):\n",
    "        if len(self._rand_c) - 1 < i:\n",
    "            self._rand_c.append(self._rand(i - 1))\n",
    "        return (123456789 * self._rand_c[i] + 987654321) % 65546\n",
    "        \n",
    "    def _hash(self, key, i):\n",
    "        return (hash(key) + self._rand(i)) % len(self.data)"
   ]
  },
  {
   "cell_type": "markdown",
   "metadata": {},
   "source": [
    "### Метод цепочек"
   ]
  },
  {
   "cell_type": "code",
   "execution_count": 30,
   "metadata": {},
   "outputs": [],
   "source": [
    "class ChainMap:\n",
    "    def __init__(self):\n",
    "        self.size = 0\n",
    "        self.data = []\n",
    "        self._resize()\n",
    "    \n",
    "    def _hash(self, key):\n",
    "        return hash(key) % len(self.data)\n",
    "    \n",
    "    def _insert(self, index, item):\n",
    "        if self.data[index] is None:\n",
    "            self.data[index] = [item]\n",
    "            return True\n",
    "        else:\n",
    "            for i, item_ in enumerate(self.data[index]):\n",
    "                if item_[0] == item[0]:\n",
    "                    self.data[index][i] = item\n",
    "                    return False\n",
    "            self.data[index].append(item)\n",
    "            return True\n",
    "    \n",
    "    def _resize(self):\n",
    "        temp = self.data\n",
    "        self.data = [None] * (2*len(self.data) + 1)\n",
    "        for bucket in temp:\n",
    "            if bucket is not None:\n",
    "                for key, value in bucket:\n",
    "                    self._insert(self._hash(key), (key, value))\n",
    "    \n",
    "    def __setitem__(self, key, value):\n",
    "        if self.size + 1 > len(self.data) // 1.5:\n",
    "            self._resize()\n",
    "        if self._insert(self._hash(key), (key, value)):  \n",
    "            self.size += 1\n",
    "    \n",
    "    def __getitem__(self, key):\n",
    "        index = self._hash(key)\n",
    "        if self.data[index] is not None:\n",
    "            for key_, value in self.data[index]:\n",
    "                if key_ == key:\n",
    "                    return value\n",
    "        raise KeyError()"
   ]
  },
  {
   "cell_type": "markdown",
   "metadata": {},
   "source": [
    "### Сравнение алгоритмов"
   ]
  },
  {
   "cell_type": "code",
   "execution_count": 31,
   "metadata": {},
   "outputs": [
    {
     "ename": "NameError",
     "evalue": "name 'tabulate' is not defined",
     "output_type": "error",
     "traceback": [
      "\u001b[1;31m---------------------------------------------------------------------------\u001b[0m",
      "\u001b[1;31mNameError\u001b[0m                                 Traceback (most recent call last)",
      "\u001b[1;32m<ipython-input-31-666b9a65dc9c>\u001b[0m in \u001b[0;36m<module>\u001b[1;34m\u001b[0m\n\u001b[0;32m     25\u001b[0m \u001b[1;33m\u001b[0m\u001b[0m\n\u001b[0;32m     26\u001b[0m \u001b[0mотсортированная_таблица_затраченного_времени\u001b[0m \u001b[1;33m=\u001b[0m \u001b[0msorted\u001b[0m\u001b[1;33m(\u001b[0m\u001b[0mзатраченное_время\u001b[0m\u001b[1;33m.\u001b[0m\u001b[0mitems\u001b[0m\u001b[1;33m(\u001b[0m\u001b[1;33m)\u001b[0m\u001b[1;33m,\u001b[0m \u001b[0mkey\u001b[0m\u001b[1;33m=\u001b[0m\u001b[1;32mlambda\u001b[0m \u001b[0mkv\u001b[0m\u001b[1;33m:\u001b[0m \u001b[0mkv\u001b[0m\u001b[1;33m[\u001b[0m\u001b[1;36m1\u001b[0m\u001b[1;33m]\u001b[0m\u001b[1;33m)\u001b[0m\u001b[1;33m\u001b[0m\u001b[1;33m\u001b[0m\u001b[0m\n\u001b[1;32m---> 27\u001b[1;33m \u001b[0mtabulate\u001b[0m\u001b[1;33m(\u001b[0m\u001b[0mотсортированная_таблица_затраченного_времени\u001b[0m\u001b[1;33m,\u001b[0m \u001b[0mheaders\u001b[0m\u001b[1;33m=\u001b[0m\u001b[1;33m[\u001b[0m\u001b[1;34m'Алгоритм'\u001b[0m\u001b[1;33m,\u001b[0m\u001b[1;34m'Время'\u001b[0m\u001b[1;33m]\u001b[0m\u001b[1;33m,\u001b[0m \u001b[0mtablefmt\u001b[0m\u001b[1;33m=\u001b[0m\u001b[1;34m'html'\u001b[0m\u001b[1;33m,\u001b[0m \u001b[0mshowindex\u001b[0m\u001b[1;33m=\u001b[0m\u001b[1;34m\"always\"\u001b[0m\u001b[1;33m)\u001b[0m\u001b[1;33m\u001b[0m\u001b[1;33m\u001b[0m\u001b[0m\n\u001b[0m",
      "\u001b[1;31mNameError\u001b[0m: name 'tabulate' is not defined"
     ]
    }
   ],
   "source": [
    "алгоритмы = {\n",
    "    'Бинарный поиск': BinarySearchMap,\n",
    "    'Фибоначчиева поиск': FibonacciMap,\n",
    "    'Интерполяционный поиск': InterpolateMap,\n",
    "    'Бинарное дерево': BinaryTreeMap,\n",
    "    'Простое рехэширование': HashMap,\n",
    "    'Рехэширование с помощью псевдослучайных чисел': RandomHashMap,\n",
    "    'Метод цепочек': ChainMap,\n",
    "    'Стандартная функция поиска': dict\n",
    "}\n",
    "\n",
    "\n",
    "затраченное_время = {}\n",
    "тестовые_набор = random_matrix(50, 1000)\n",
    "for имя_алгоритма, Таблица in алгоритмы.items():\n",
    "    копия_наборов = тестовые_набор.copy()\n",
    "    время_начало = time.perf_counter()\n",
    "    for набор in копия_наборов:\n",
    "        таблица = Таблица()\n",
    "        for значение, ключ in enumerate(набор):\n",
    "            таблица[ключ] = значение\n",
    "            assert таблица[ключ] == значение, f'Найденный элемент не соответствует записанному'\n",
    "    время_конца = time.perf_counter()\n",
    "    затраченное_время[имя_алгоритма] = (время_конца - время_начало) / len(тестовые_набор)\n",
    "\n",
    "отсортированная_таблица_затраченного_времени = sorted(затраченное_время.items(), key=lambda kv: kv[1])\n",
    "tabulate(отсортированная_таблица_затраченного_времени, headers=['Алгоритм','Время'], tablefmt='html', showindex=\"always\")"
   ]
  },
  {
   "cell_type": "markdown",
   "metadata": {},
   "source": [
    "### Задание 3\n",
    "\n",
    "Расставить на стандартной 64-клеточной шахматной доске 8 ферзей так, чтобы ни один из них не находился под боем другого». Подразумевается, что ферзь бьёт все клетки, расположенные по вертикалям, горизонталям и обеим диагоналям\n",
    "Написать программу,  которая находит хотя бы один способ решения задач.\n",
    "\n"
   ]
  },
  {
   "cell_type": "markdown",
   "metadata": {},
   "source": []
  },
  {
   "cell_type": "code",
   "execution_count": null,
   "metadata": {},
   "outputs": [],
   "source": []
  },
  {
   "cell_type": "code",
   "execution_count": null,
   "metadata": {
    "scrolled": true
   },
   "outputs": [],
   "source": []
  },
  {
   "cell_type": "markdown",
   "metadata": {},
   "source": []
  },
  {
   "cell_type": "code",
   "execution_count": null,
   "metadata": {},
   "outputs": [],
   "source": [
    "board = [[0, 0, 0, 0, 0, 1, 0, 0],\n",
    "         [0, 0, 0, 1, 0, 0, 0, 0],\n",
    "         [0, 0, 0, 0, 0, 0, 1, 0],\n",
    "         [1, 0, 0, 0, 0, 0, 0, 0],\n",
    "         [0, 0, 0, 0, 0, 0, 0, 1],\n",
    "         [0, 1, 0, 0, 0, 0, 0, 0],\n",
    "         [0, 0, 0, 0, 1, 0, 0, 0],\n",
    "         [0, 0, 1, 0, 0, 0, 0, 0]]\n",
    "\n",
    "def clearBoard(board):\n",
    "    for i in range(8):\n",
    "        for j in range(8):\n",
    "            board[i][j] = 0\n",
    "\n",
    "def printBoard(board):\n",
    "    for i in range(8):\n",
    "        for j in range(8):\n",
    "            if board[i][j] == 1:\n",
    "                print(\"F\", end=\"\")\n",
    "            else:\n",
    "                print(\"X\", end=\"\")\n",
    "        print(\"\")\n",
    "    print(\"\")\n",
    "\n",
    "def checkColsOK(board):\n",
    "    for i in range(8):\n",
    "        sum = 0\n",
    "        for j in range(8):\n",
    "            sum += board[j][i]\n",
    "        if sum > 1:\n",
    "            return 0\n",
    "\n",
    "\n",
    "\n",
    "\n",
    "def checkRowsOK(board):\n",
    "    for i in range(8):\n",
    "        sum = 0\n",
    "        for j in range (8):\n",
    "            sum += board[i][j]\n",
    "        if sum > 1:\n",
    "            return 0\n",
    "\n",
    "\n",
    "def checkDiagsOK(board):\n",
    "\n",
    "    counter = 8\n",
    "    sum = 0\n",
    "\n",
    "    for i in range(8):\n",
    "        x = i\n",
    "        y = 0\n",
    "        for j in range(counter):\n",
    "            sum += board[y][x]\n",
    "            x += 1\n",
    "            y +=1\n",
    "        counter -= 1\n",
    "\n",
    "        if sum > 1:\n",
    "            return 0\n",
    "        sum = 0\n",
    "\n",
    "\n",
    "    counter = 8\n",
    "    sum = 0\n",
    "\n",
    "    for i in range(8):\n",
    "        x = i\n",
    "        y = 0\n",
    "        for j in range(counter):\n",
    "            sum += board[x][y]\n",
    "            x += 1\n",
    "            y +=1\n",
    "        counter -= 1\n",
    "\n",
    "\n",
    "        if sum > 1:\n",
    "            return 0\n",
    "        sum = 0\n",
    "\n",
    "\n",
    "    counter = 8\n",
    "    sum = 0\n",
    "\n",
    "    for i in reversed(range(8)):\n",
    "        x = i\n",
    "        y = 0\n",
    "        for j in range(counter):\n",
    "            sum += board[x][y]\n",
    "            x -= 1\n",
    "            y += 1\n",
    "        counter -= 1\n",
    "\n",
    "\n",
    "        if sum > 1:\n",
    "            return 0\n",
    "        sum = 0\n",
    "\n",
    "\n",
    "    counter = 8\n",
    "    sum = 0\n",
    "\n",
    "    for i in range(8):\n",
    "        x = 7\n",
    "        y = i\n",
    "        for j in range(counter):\n",
    "            sum += board[x][y]\n",
    "            x -= 1\n",
    "            y += 1\n",
    "        counter -= 1\n",
    "\n",
    "        \n",
    "\n",
    "        if sum > 1:\n",
    "            return 0\n",
    "        sum = 0\n",
    "\n",
    "def addFerz(board, col):\n",
    "\n",
    "    row = 0\n",
    "\n",
    "    for row in range(8):\n",
    "        board[row][col] = 1\n",
    "        if (checkRowsOK(board) != 0 and checkDiagsOK(board) != 0):\n",
    "            if col == 7:\n",
    "                printBoard(board)\n",
    "            else:\n",
    "                addFerz(board, col + 1)\n",
    "        board[row][col] = 0\n",
    "\n",
    "\n",
    "clearBoard(board)\n",
    "addFerz(board, 0)"
   ]
  },
  {
   "cell_type": "markdown",
   "metadata": {},
   "source": [
    "### Вывод\n",
    "В ходе лабораторной работы мы научились реализовывать методы поиска, организовывать генерацию начального набора случайных данных, а также добавили реализацию добавления, поиска и удаления элементов, оценили время работы каждого алгоритма поиска и сравнили его со временем работы стандартной функции поиска, используемой в языке программирования Python 3. А также реализовали один из вариантов решения задачи о восьми ферзях."
   ]
  },
  {
   "cell_type": "code",
   "execution_count": null,
   "metadata": {},
   "outputs": [],
   "source": []
  },
  {
   "cell_type": "code",
   "execution_count": null,
   "metadata": {},
   "outputs": [],
   "source": []
  },
  {
   "cell_type": "code",
   "execution_count": null,
   "metadata": {},
   "outputs": [],
   "source": []
  }
 ],
 "metadata": {
  "kernelspec": {
   "display_name": "Python 3",
   "language": "python",
   "name": "python3"
  },
  "language_info": {
   "codemirror_mode": {
    "name": "ipython",
    "version": 3
   },
   "file_extension": ".py",
   "mimetype": "text/x-python",
   "name": "python",
   "nbconvert_exporter": "python",
   "pygments_lexer": "ipython3",
   "version": "3.9.2"
  }
 },
 "nbformat": 4,
 "nbformat_minor": 4
}
